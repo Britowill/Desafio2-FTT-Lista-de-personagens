{
  "nbformat": 4,
  "nbformat_minor": 0,
  "metadata": {
    "colab": {
      "provenance": [],
      "authorship_tag": "ABX9TyMqIJDxXVocYbA3fnuVtgOa",
      "include_colab_link": true
    },
    "kernelspec": {
      "name": "python3",
      "display_name": "Python 3"
    },
    "language_info": {
      "name": "python"
    }
  },
  "cells": [
    {
      "cell_type": "markdown",
      "metadata": {
        "id": "view-in-github",
        "colab_type": "text"
      },
      "source": [
        "<a href=\"https://colab.research.google.com/github/Britowill/Desafio2-FTT-Lista-de-personagens/blob/main/ListaPersonagens.ipynb\" target=\"_parent\"><img src=\"https://colab.research.google.com/assets/colab-badge.svg\" alt=\"Open In Colab\"/></a>"
      ]
    },
    {
      "cell_type": "code",
      "source": [
        "#Durante o desenvolvimento de uma nova ferramenta responsável por gerenciar personagens e os animadores responsáveis por cada um deles, sua equipe solicitou que implementasse de forma rudimentar um código que permitisse criar e visualizar personagens usando apenas os comandos e estruturas de dados base da linguagem.\n",
        "#Cada um dos personagens contém nome, descrição, link para imagem, programa e animador.\"\n",
        "\n",
        "class Personagem:\n",
        "    def __init__(self, nome, descricao, link_imagem, programa, animador):\n",
        "        self.nome = nome\n",
        "        self.descricao = descricao\n",
        "        self.link_imagem = link_imagem\n",
        "        self.programa = programa\n",
        "        self.animador = animador\n",
        "\n",
        "    def visualizar(self):\n",
        "        print(\"Nome:\", self.nome)\n",
        "        print(\"Descrição:\", self.descricao)\n",
        "        print(\"Link para imagem:\", self.link_imagem)\n",
        "        print(\"Programa:\", self.programa)\n",
        "        print(\"Animador:\", self.animador)\n",
        "\n",
        "\n",
        "# Cria uma lista de personagens iniciais\n",
        "# A lista foi gerada automaticamente através do ChatGPT\n",
        "personagens = [\n",
        "    Personagem(\"Mario\", \"Um encanador italiano que luta contra o Bowser\", \"https://www.mariowiki.com/Mario\", \"Super Mario Bros.\", \"Shigeru Miyamoto\"),\n",
        "    Personagem(\"Luigi\", \"Um irmão do Mario que também luta contra o Bowser\", \"https://www.mariowiki.com/Luigi\", \"Super Mario Bros.\", \"Shigeru Miyamoto\"),\n",
        "    Personagem(\"Peach\", \"Uma princesa que é sequestrada pelo Bowser\", \"https://www.mariowiki.com/Peach\", \"Super Mario Bros.\", \"Shigeru Miyamoto\"),\n",
        "    Personagem(\"Link\", \"Um jovem herói que protege Hyrule das forças do mal\", \"https://www.zeldawiki.com/Link\", \"The Legend of Zelda\", \"Shigeru Miyamoto\"),\n",
        "    Personagem(\"Zelda\", \"A Princesa de Hyrule que é sequestrada por Ganondorf\", \"https://www.zeldawiki.com/Zelda\", \"The Legend of Zelda\", \"Shigeru Miyamoto\"),\n",
        "    Personagem(\"Samus Aran\", \"Uma caçadora de recompensas que luta contra os Piratas Espaciais\", \"https://www.metroidwiki.org/Samus_Aran\", \"Metroid\", \"Yoshimi Yamauchi\"),\n",
        "    Personagem(\"Master Chief\", \"Um supersoldado que luta contra os Covenant\", \"https://www.halowaypoint.com/en-us/characters/master-chief\", \"Halo\", \"Bungie\"),\n",
        "    Personagem(\"Cortana\", \"Uma IA que auxilia o Master Chief\", \"https://www.halowaypoint.com/en-us/characters/cortana\", \"Halo\", \"Bungie\"),\n",
        "    Personagem(\"Lara Croft\", \"Uma arqueóloga que explora tumbas antigas\", \"https://www.laracroft.com/\", \"Tomb Raider\", \"Toby Gard\"),\n",
        "    Personagem(\"Nathan Drake\", \"Um caçador de tesouros que explora o mundo em busca de relíquias perdidas\", \"https://www.unchartedthegame.com/\", \"Uncharted\", \"Neil Druckmann\"),\n",
        "    Personagem(\"Joel Miller\", \"Um contrabandista que se torna o guardião de Ellie\", \"https://www.thelastofus.com/\", \"The Last of Us\", \"Neil Druckmann\"),\n",
        "    Personagem(\"Ellie Williams\", \"Uma jovem que é imune a um vírus que transforma as pessoas em criaturas canibais\", \"https://www.thelastofus.com/\", \"The Last of Us\", \"Neil Druckmann\"),\n",
        "    Personagem(\"Geralt de Rivia\", \"Um caçador de monstros que viaja pelo continente em busca de trabalho\", \"https://witcher.com/\", \"The Witcher\", \"Andrzej Sapkowski\"),\n",
        "    Personagem(\"Yennefer de Vengerberg\", \"Uma feiticeira que se torna a amante de Geralt\", \"https://witcher.com/\", \"The Witcher\", \"Andrzej Sapkowski\"),\n",
        "    Personagem(\"Ciri\", \"Uma jovem que é a Criança da Prophecia e destinada a salvar o mundo\", \"https://witcher.com/\", \"The Witcher\", \"Andrzej Sapkowski\"),\n",
        "    Personagem(\"Kratos\", \"Um guerreiro espartano que busca vingança contra os deuses do Olimpo\", \"https://godofwar.playstation.com/\", \"God of War\", \"David Jaffe\"),\n",
        "]\n",
        "\n",
        "\n",
        "# Função para visualizar um personagem\n",
        "def visualizar_personagem():\n",
        "    while True:\n",
        "        nome = input(\"Você deseja informações de qual personagem? (Pressione Enter para sair) \")\n",
        "        if nome == \"\":\n",
        "            break\n",
        "\n",
        "        for personagem in personagens:\n",
        "            if personagem.nome == nome:\n",
        "                personagem.visualizar()\n",
        "                break\n",
        "        else:\n",
        "            # O personagem não foi encontrado na lista, então adicionamos ele à lista\n",
        "            inserir_personagem(nome)\n",
        "\n",
        "\n",
        "# Função para inserir um personagem na lista\n",
        "def inserir_personagem(nome):\n",
        "    descricao = input(\"Descrição do personagem: \")\n",
        "    link_imagem = input(\"Link para imagem do personagem: \")\n",
        "    programa = input(\"Programa do personagem: \")\n",
        "    animador = input(\"Animador do personagem: \")\n",
        "\n",
        "    personagem = Personagem(nome, descricao, link_imagem, programa, animador)\n",
        "    personagens.append(personagem)\n",
        "\n",
        "\n",
        "# Chamada das funções\n",
        "visualizar_personagem()"
      ],
      "metadata": {
        "colab": {
          "base_uri": "https://localhost:8080/"
        },
        "id": "otnYpfWIMylZ",
        "outputId": "0ec3cd7a-5f3c-4f6b-b4a8-8730e95ca43c"
      },
      "execution_count": 9,
      "outputs": [
        {
          "name": "stdout",
          "output_type": "stream",
          "text": [
            "Você deseja informações de qual personagem? (Pressione Enter para sair) Mario\n",
            "Nome: Mario\n",
            "Descrição: Um encanador italiano que luta contra o Bowser\n",
            "Link para imagem: https://www.mariowiki.com/Mario\n",
            "Programa: Super Mario Bros.\n",
            "Animador: Shigeru Miyamoto\n",
            "Você deseja informações de qual personagem? (Pressione Enter para sair) \n"
          ]
        }
      ]
    },
    {
      "cell_type": "code",
      "source": [],
      "metadata": {
        "id": "VkcBx6M2PDLh"
      },
      "execution_count": null,
      "outputs": []
    }
  ]
}